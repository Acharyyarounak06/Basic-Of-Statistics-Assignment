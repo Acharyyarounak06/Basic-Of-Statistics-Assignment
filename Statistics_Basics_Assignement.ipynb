{
  "nbformat": 4,
  "nbformat_minor": 0,
  "metadata": {
    "colab": {
      "provenance": []
    },
    "kernelspec": {
      "name": "python3",
      "display_name": "Python 3"
    },
    "language_info": {
      "name": "python"
    }
  },
  "cells": [
    {
      "cell_type": "code",
      "execution_count": null,
      "metadata": {
        "id": "Qg_Fvnwy3syZ"
      },
      "outputs": [],
      "source": [
        "# Read answers of all given questions."
      ]
    },
    {
      "cell_type": "code",
      "source": [
        "# Q1) Explain the different types of data (qualitative and quantitative) and provide examples of each. Discuss nominal, ordinal, interval, and ratio scales.\n",
        "# ans. Data Types:\n",
        "# Qualitative Data: Descriptive, non-numerical information used to categorize or describe attributes.\n",
        "# Example: Colors of cars (red, blue, green), types of cuisine (Italian, Indian, Chinese).\n",
        "# Quantitative Data: Numerical data used to measure quantities.\n",
        "# Example: Age (25 years), height (180 cm), number of students in a class (30).\n",
        "\n",
        "# Measurement Scales:\n",
        "\n",
        "# Nominal Scale: Categories with no specific order.\n",
        "# Example: Eye color (blue, brown, green), types of pets (dog, cat, bird).\n",
        "# Ordinal Scale: Ordered categories, but intervals between ranks are not equal.\n",
        "# Example: Movie ratings (poor, fair, good, excellent), class rankings (1st, 2nd, 3rd).\n",
        "# Interval Scale: Numeric scales where intervals are equal, but no true zero.\n",
        "# Example: Temperature in Celsius (20°C, 30°C), IQ scores.\n",
        "# Ratio Scale: Numeric scales with equal intervals and a true zero point.\n",
        "# Example: Weight (0 kg, 50 kg), height (0 cm, 175 cm), income."
      ],
      "metadata": {
        "id": "2d56Dunp38Za"
      },
      "execution_count": null,
      "outputs": []
    },
    {
      "cell_type": "code",
      "source": [
        "# Q2) What are the measures of central tendency, and when should you use each? Discuss the mean, median,and mode with examples and situations where each is appropriate.\n",
        "# ans. Measures of Central Tendency:\n",
        "\n",
        "# Mean (Average):\n",
        "\n",
        "# Definition: The sum of all values divided by the number of values.\n",
        "# Example: Average score in a test: (85 + 90 + 95) ÷ 3 = 90.\n",
        "# When to Use: When data is continuous and symmetrically distributed, and you want an overall average.\n",
        "# Avoid: If data has extreme outliers, as they can skew the mean.\n",
        "# Median:\n",
        "\n",
        "# Definition: The middle value when data is arranged in order.\n",
        "# Example: For scores 10, 20, 30, 40, 100, the median is 30.\n",
        "# When to Use: When data is skewed or has outliers, as it better represents the center.\n",
        "# Avoid: When precise average values are needed for continuous data.\n",
        "# Mode:\n",
        "\n",
        "# Definition: The value that appears most frequently.\n",
        "# Example: In the dataset {1, 2, 2, 3, 4}, the mode is 2.\n",
        "# When to Use: For categorical data or to identify the most common value in a dataset.\n",
        "# Avoid: If all values are unique, mode may not be useful.b"
      ],
      "metadata": {
        "id": "3wdGA7Dd5NaV"
      },
      "execution_count": null,
      "outputs": []
    },
    {
      "cell_type": "code",
      "source": [
        "# Q3) Explain the concept of dispersion. How do variance and standard deviation measure the spread of data?\n",
        "# ans. Dispersion refers to how spread out the values in a dataset are. It shows the extent to which data points differ from each other and the central tendency (like the mean).\n",
        "\n",
        "# Variance:\n",
        "\n",
        "# Definition: The average of the squared differences between each data point and the mean.\n",
        "# How it measures spread: A higher variance indicates that data points are more spread out from the mean, while a lower variance indicates they are closer to the mean.\n",
        "# Example: If scores are 5, 10, 15, and the mean is 10, the variance measures how far each score is from 10.\n",
        "# Standard Deviation:\n",
        "\n",
        "# Definition: The square root of the variance, providing a measure of spread in the same units as the data.\n",
        "# How it measures spread: Like variance, a higher standard deviation indicates more spread, while a lower one means the data is more tightly clustered around the mean.\n",
        "# Example: If a dataset has a standard deviation of 5, most data points are within 5 units of the mean.\n",
        "# Both variance and standard deviation help quantify how data is distributed around the mean."
      ],
      "metadata": {
        "id": "5HlZ7aY06Zgo"
      },
      "execution_count": null,
      "outputs": []
    },
    {
      "cell_type": "code",
      "source": [
        "# Q4) What is a box plot, and what can it tell you about the distribution of data?\n",
        "# ans. A box plot (or box-and-whisker plot) is a graphical representation of data that shows the distribution through five summary statistics:\n",
        "\n",
        "# 1. Minimum: The smallest data point (excluding outliers).\n",
        "# 2. First Quartile (Q1): The 25th percentile.\n",
        "# 3. Median (Q2): The middle value (50th percentile).\n",
        "# 4. Third Quartile (Q3): The 75th percentile.\n",
        "# 5. Maximum: The largest data point (excluding outliers).\n",
        "# What it tells you:\n",
        "\n",
        "# Spread: The range between the quartiles shows data dispersion.\n",
        "# Skewness: The position of the median within the box indicates whether data is skewed left, right, or symmetric.\n",
        "# Outliers: Points outside the \"whiskers\" represent outliers in the dataset.\n",
        "# Interquartile Range (IQR): The range between Q1 and Q3 shows the middle 50% of the data.\n",
        "# Box plots are useful for visualizing the distribution, central tendency, and spread, especially with skewed data or outliers."
      ],
      "metadata": {
        "id": "hkeQz8_w64Hr"
      },
      "execution_count": null,
      "outputs": []
    },
    {
      "cell_type": "code",
      "source": [
        "# Q5) Discuss the role of random sampling in making inferences about populations.\n",
        "# ans. Random sampling plays a crucial role in making inferences about populations because it ensures that every member of the population has an equal chance of being selected. This helps in obtaining a sample that is representative of the overall population, reducing bias and allowing generalizations to be made.\n",
        "\n",
        "# Key Points:\n",
        "\n",
        "# Unbiased estimates: Random sampling avoids selection bias, ensuring that the sample accurately reflects the population's characteristics.\n",
        "# Generalization: By analyzing the sample, you can make inferences about population parameters (like mean, proportion, etc.) with confidence.\n",
        "# Statistical validity: Random sampling supports the use of inferential statistics (like confidence intervals and hypothesis tests), which rely on the assumption that the sample is representative.\n",
        "# In essence, random sampling helps ensure that conclusions drawn from a sample can be reliably extended to the entire population."
      ],
      "metadata": {
        "id": "voGh4kyr8jlC"
      },
      "execution_count": null,
      "outputs": []
    },
    {
      "cell_type": "code",
      "source": [
        "# Q6) Explain the concept of skewness and its types. How does skewness affect the interpretation of data?\n",
        "# ans. Skewness refers to the asymmetry in the distribution of data. It indicates whether the data leans more to one side of the mean.\n",
        "# Types of Skewness:\n",
        "# Positive Skew (Right Skew):\n",
        "\n",
        "# Definition: The tail on the right side is longer, and most data points are concentrated on the left.\n",
        "# Effect: The mean is greater than the median.\n",
        "# Example: Income distributions where a few people earn much more than the majority.\n",
        "# Negative Skew (Left Skew):\n",
        "\n",
        "# Definition: The tail on the left side is longer, and most data points are concentrated on the right.\n",
        "# Effect: The mean is less than the median.\n",
        "# Example: Test scores where most students did well, but a few had very low scores.\n",
        "# Effect of Skewness on Data Interpretation:\n",
        "# Central Tendency: In skewed distributions, the mean is pulled toward the tail, so the median is a better measure of central tendency.\n",
        "# Spread and Outliers: Skewed data can indicate the presence of outliers, affecting the spread (variance and standard deviation).\n",
        "# Statistical Analysis: Many statistical techniques assume normality (no skew). Skewed data may require transformation or non-parametric methods for accurate analysis.\n",
        "# Skewness provides insights into the shape and spread of data, influencing how central tendencies and variability are interpreted."
      ],
      "metadata": {
        "id": "IH3msmmX9X7B"
      },
      "execution_count": null,
      "outputs": []
    },
    {
      "cell_type": "code",
      "source": [
        "# Q7)What is the interquartile range (IQR), and how is it used to detect outliers?\n",
        "# ans. The Interquartile Range (IQR) is a measure of statistical dispersion that represents the range between the first quartile (Q1) and the third quartile (Q3) of a dataset. It shows the spread of the middle 50% of the data.\n",
        "# How IQR is used to detect outliers:\n",
        "# Outliers are data points that fall significantly outside the typical range.\n",
        "# To identify outliers:\n",
        "# Lower bound: Any data point below\n",
        "# 𝑄1−1.5×𝐼𝑄𝑅\n",
        "# Q1−1.5×IQR is considered a lower outlier.\n",
        "# Upper bound: Any data point above\n",
        "# 𝑄3+1.5×𝐼𝑄𝑅\n",
        "# Q3+1.5×IQR is considered an upper outlier."
      ],
      "metadata": {
        "id": "yg5A3nOI_Nc3"
      },
      "execution_count": null,
      "outputs": []
    },
    {
      "cell_type": "code",
      "source": [
        "# Q8)Discuss the conditions under which the binomial distribution is used.\n",
        "# ans. The binomial distribution is used under the following conditions:\n",
        "# 1. Fixed number of trials (n): The experiment is repeated a specific number of times.\n",
        "# 2. Two outcomes per trial: Each trial results in either a \"success\" or \"failure.\"\n",
        "# 3. Constant probability (p): The probability of success remains the same for each trial.\n",
        "# 4. Independent trials: The outcome of one trial does not affect the outcome of another."
      ],
      "metadata": {
        "id": "vuNWUyDdBhvC"
      },
      "execution_count": null,
      "outputs": []
    },
    {
      "cell_type": "code",
      "source": [
        "# Q9)Explain the properties of the normal distribution and the empirical rule (68-95-99.7 rule).\n",
        "# ans. ### Properties of the Normal Distribution:\n",
        "# 1. Symmetry: The distribution is symmetric around the mean (\\(\\mu\\)).\n",
        "# 2. Bell-shaped curve: Most data values cluster around the mean, tapering off toward the tails.\n",
        "# 3. Mean = Median = Mode: All are equal and located at the center of the distribution.\n",
        "# 4. Defined by parameters: It is characterized by the mean (\\(\\mu\\)) and standard deviation (\\(\\sigma\\)).\n",
        "# 5. Asymptotic tails: The tails approach but never touch the horizontal axis.\n",
        "# 6. Total area = 1: The entire area under the curve represents the probability and sums to 1.\n",
        "\n",
        "### Empirical Rule (68-95-99.7 Rule):\n",
        "# 68% of data falls within 1 standard deviation (\\(\\mu \\pm \\sigma\\)).\n",
        "# 95% of data falls within 2 standard deviations (\\(\\mu \\pm 2\\sigma\\)).\n",
        "# 99.7% of data falls within 3 standard deviations (\\(\\mu \\pm 3\\sigma\\))."
      ],
      "metadata": {
        "id": "BknolXhba7vB"
      },
      "execution_count": 1,
      "outputs": []
    },
    {
      "cell_type": "code",
      "source": [
        "# Q10)Provide a real-life example of a Poisson process and calculate the probability for a specific event.\n",
        "# ans. ### Example: **Customer arrivals at a bank**\n",
        "\n",
        "# Customers arrive at a bank at an average rate of 5 per hour (\\(\\lambda = 5\\)).\n",
        "\n",
        "#### Probability Calculation:\n",
        "# Find the probability of exactly 3 customers arriving in an hour.\n",
        "\n",
        "# Using the Poisson formula:\n",
        "# \\[\n",
        "# P(X = k) = \\frac{e^{-\\lambda} \\lambda^k}{k!}\n",
        "# \\]\n",
        "# For \\(k = 3\\):\n",
        "# \\[\n",
        "# P(X = 3) = \\frac{e^{-5} 5^3}{3!} = \\frac{e^{-5} \\cdot 125}{6} \\approx 0.1404\n",
        "# \\]\n",
        "\n",
        "# Thus, the probability is approximately **14.04%**."
      ],
      "metadata": {
        "id": "U45_HNLidsVF"
      },
      "execution_count": null,
      "outputs": []
    },
    {
      "cell_type": "code",
      "source": [
        "# Q11)  Explain what a random variable is and differentiate between discrete and continuous random variables.\n",
        "# ans. #What is a Random Variable?\n",
        "# A random variable is a numerical representation of the outcomes of a random experiment. It assigns a value to each possible outcome of the experiment.\n",
        "\n",
        "#Types of Random Variables\n",
        "\n",
        "# 1. Discrete Random Variable:\n",
        "#    - Takes on a countable number of distinct values (e.g., integers).\n",
        "#    - Examples: Number of heads in 10 coin tosses, number of customers arriving at a shop.\n",
        "\n",
        "# 2. Continuous Random Variable:\n",
        "#    - Takes on an infinite number of possible values within a range (e.g., real numbers).\n",
        "#    - Examples: Heights of people, time taken to complete a task.\n",
        "\n",
        "#Key Difference:\n",
        "# - **Discrete:** Values are countable (e.g., 0, 1, 2...).\n",
        "# - **Continuous:** Values are uncountable and form a continuum (e.g., any value between 0 and 1)."
      ],
      "metadata": {
        "id": "x7eWmVRsoCiO"
      },
      "execution_count": null,
      "outputs": []
    },
    {
      "cell_type": "code",
      "source": [
        "# Q12) Provide an example dataset, calculate both covariance and correlation, and interpret the results.\n",
        "# ans.\n",
        "import numpy as np\n",
        "import pandas as pd\n",
        "\n",
        "# Example dataset: Exam scores of two students in 5 subjects\n",
        "data = {\n",
        "    \"Student_A\": [85, 78, 92, 88, 76],\n",
        "    \"Student_B\": [80, 75, 89, 85, 70],\n",
        "}\n",
        "\n",
        "# Creating a DataFrame\n",
        "df = pd.DataFrame(data)\n",
        "\n",
        "# Calculate covariance and correlation\n",
        "covariance = np.cov(df[\"Student_A\"], df[\"Student_B\"], ddof=0)[0, 1]\n",
        "correlation = np.corrcoef(df[\"Student_A\"], df[\"Student_B\"])[0, 1]\n",
        "\n",
        "covariance, correlation"
      ],
      "metadata": {
        "colab": {
          "base_uri": "https://localhost:8080/"
        },
        "id": "YnnHLziBo3Fx",
        "outputId": "e4083129-3c4b-4bc2-fab8-97b82f94dca1"
      },
      "execution_count": 3,
      "outputs": [
        {
          "output_type": "execute_result",
          "data": {
            "text/plain": [
              "(40.36000000000001, 0.9878796668120433)"
            ]
          },
          "metadata": {},
          "execution_count": 3
        }
      ]
    },
    {
      "cell_type": "code",
      "source": [],
      "metadata": {
        "id": "z9TMlrkEpRMB"
      },
      "execution_count": null,
      "outputs": []
    }
  ]
}